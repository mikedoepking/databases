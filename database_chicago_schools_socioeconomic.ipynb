{
    "nbformat_minor": 1, 
    "cells": [
        {
            "source": "### Introduction\n\nIn this notebook, I will first take a look at a dataset of selected socioeconomic indicators in Chicago.  \nThe city of Chicago released this dataset to the Chicago City Portal: https://data.cityofchicago.org/Health-Human-Services/Census-Data-Selected-socioeconomic-indicators-in-C/kn9c-c2s2  \nThis dataset contains a selection of six socioeconomic indicators of public health significance and a \u201chardship index,\u201d for each Chicago community area, for the years 2008 \u2013 2012.  \nScores on the hardship index can range from 1 to 100, with a higher index number representing a greater level of hardship.\n\nA detailed description of the dataset can be found on [the city of Chicago's website](https://data.cityofchicago.org/Health-Human-Services/Census-Data-Selected-socioeconomic-indicators-in-C/kn9c-c2s2), but to summarize, the dataset has the following variables:\n\n* **Community Area Number** (`ca`): Used to uniquely identify each row of the dataset\n\n* **Community Area Name** (`community_area_name`): The name of the region in the city of Chicago \n\n* **Percent of Housing Crowded** (`percent_of_housing_crowded`): Percent of occupied housing units with more than one person per room\n\n* **Percent Households Below Poverty** (`percent_households_below_poverty`): Percent of households living below the federal poverty line\n\n* **Percent Aged 16+ Unemployed** (`percent_aged_16_unemployed`): Percent of persons over the age of 16 years that are unemployed\n\n* **Percent Aged 25+ without High School Diploma** (`percent_aged_25_without_high_school_diploma`): Percent of persons over the age of 25 years without a high school education\n\n* **Percent Aged Under** 18 or Over 64:Percent of population under 18 or over 64 years of age (`percent_aged_under_18_or_over_64`): (ie. dependents)\n\n* **Per Capita Income** (`per_capita_income_`): Community Area per capita income is estimated as the sum of tract-level aggragate incomes divided by the total population\n\n* **Hardship Index** (`hardship_index`): Score that incorporates each of the six selected socioeconomic indicators\n\n\nAfterwards, I will investigate a dataset, also released by the city of Chicago, showing all school level performance data used to create School Report Cards for the 2011-2012 school year.   \nThe dataset is available from the Chicago Data Portal: https://data.cityofchicago.org/Education/Chicago-Public-Schools-Progress-Report-Cards-2011-/9xs2-f89t\n\nFinally, I will take a look at Chicago crime data.  \nThis dataset reflects reported incidents of crime (with the exception of murders where data exists for each victim) that occurred in the City of Chicago from 2001 to present, minus the most recent seven days.  \nThis dataset is quite large - over 1.5GB in size with over 6.5 million rows.   \nA detailed description of this dataset and the original dataset can be obtained from the Chicago Data Portal at: https://data.cityofchicago.org/Public-Safety/Crimes-2001-to-present/ijzp-q8t2  \nFor the purposes of a short investigation in this notebook, I will use a smaller part of this dataset which can be downloaded from: https://ibm.box.com/shared/static/svflyugsr9zbqy5bmowgswqemfpm1x7f.csv\n\n## Chapter I: Chicago socioeconomic data\n### Connecting to the database and storing data\nLet's establish a connection to the IBM Db2 database:", 
            "cell_type": "markdown", 
            "metadata": {
                "collapsed": true
            }
        }, 
        {
            "execution_count": 1, 
            "cell_type": "code", 
            "metadata": {}, 
            "outputs": [
                {
                    "execution_count": 1, 
                    "metadata": {}, 
                    "data": {
                        "text/plain": "'Connected: mnj99072@BLUDB'"
                    }, 
                    "output_type": "execute_result"
                }
            ], 
            "source": "%load_ext sql\n\n# Remember the connection string is of the format:\n# %sql ibm_db_sa://my-username:my-password@my-hostname:my-port/my-db-name\n# Enter the connection string for your Db2 on Cloud database instance below\n%sql ibm_db_sa://REMOVED:REMOVED@REMOVED:50000/BLUDB"
        }, 
        {
            "source": "First, I will read the dataset csv file from the internet into pandas dataframe.  \nAfterwards, I will create a table in the Db2 database to store the dataset.   \nThe PERSIST command in SQL \"magic\" simplifies the process of table creation and writing the data from a pandas dataframe into the table:", 
            "cell_type": "markdown", 
            "metadata": {}
        }, 
        {
            "execution_count": 31, 
            "cell_type": "code", 
            "metadata": {}, 
            "outputs": [
                {
                    "output_type": "stream", 
                    "name": "stdout", 
                    "text": " * ibm_db_sa://mnj99072:***@dashdb-txn-sbox-yp-lon02-01.services.eu-gb.bluemix.net:50000/BLUDB\n(ibm_db_dbi.ProgrammingError) ibm_db_dbi::ProgrammingError: Statement Execute Failed: [IBM][CLI Driver][DB2/LINUXX8664] SQL0204N  \"MNJ99072.CHICAGO_SOCIOECONOMIC_DATA\" is an undefined name.  SQLSTATE=42704 SQLCODE=-204 [SQL: 'drop table chicago_socioeconomic_data']\n * ibm_db_sa://mnj99072:***@dashdb-txn-sbox-yp-lon02-01.services.eu-gb.bluemix.net:50000/BLUDB\n"
                }, 
                {
                    "execution_count": 31, 
                    "metadata": {}, 
                    "data": {
                        "text/plain": "'Persisted chicago_socioeconomic_data'"
                    }, 
                    "output_type": "execute_result"
                }
            ], 
            "source": "import pandas\nchicago_socioeconomic_data = pandas.read_csv('https://data.cityofchicago.org/resource/jcxq-k9xf.csv')\n%sql drop table chicago_socioeconomic_data\n%sql PERSIST chicago_socioeconomic_data"
        }, 
        {
            "source": "Let's check whether that worked out:", 
            "cell_type": "markdown", 
            "metadata": {}
        }, 
        {
            "execution_count": 4, 
            "cell_type": "code", 
            "metadata": {}, 
            "outputs": [
                {
                    "output_type": "stream", 
                    "name": "stdout", 
                    "text": " * ibm_db_sa://mnj99072:***@dashdb-txn-sbox-yp-lon02-01.services.eu-gb.bluemix.net:50000/BLUDB\nDone.\n"
                }, 
                {
                    "execution_count": 4, 
                    "metadata": {}, 
                    "data": {
                        "text/html": "<table>\n    <tr>\n        <th>index</th>\n        <th>ca</th>\n        <th>community_area_name</th>\n        <th>hardship_index</th>\n        <th>per_capita_income_</th>\n        <th>percent_aged_16_unemployed</th>\n        <th>percent_aged_25_without_high_school_diploma</th>\n        <th>percent_aged_under_18_or_over_64</th>\n        <th>percent_households_below_poverty</th>\n        <th>percent_of_housing_crowded</th>\n    </tr>\n    <tr>\n        <td>0</td>\n        <td>1.0</td>\n        <td>Rogers Park</td>\n        <td>39.0</td>\n        <td>23939</td>\n        <td>8.7</td>\n        <td>18.2</td>\n        <td>27.5</td>\n        <td>23.6</td>\n        <td>7.7</td>\n    </tr>\n    <tr>\n        <td>1</td>\n        <td>2.0</td>\n        <td>West Ridge</td>\n        <td>46.0</td>\n        <td>23040</td>\n        <td>8.8</td>\n        <td>20.8</td>\n        <td>38.5</td>\n        <td>17.2</td>\n        <td>7.8</td>\n    </tr>\n    <tr>\n        <td>2</td>\n        <td>3.0</td>\n        <td>Uptown</td>\n        <td>20.0</td>\n        <td>35787</td>\n        <td>8.9</td>\n        <td>11.8</td>\n        <td>22.2</td>\n        <td>24.0</td>\n        <td>3.8</td>\n    </tr>\n    <tr>\n        <td>3</td>\n        <td>4.0</td>\n        <td>Lincoln Square</td>\n        <td>17.0</td>\n        <td>37524</td>\n        <td>8.2</td>\n        <td>13.4</td>\n        <td>25.5</td>\n        <td>10.9</td>\n        <td>3.4</td>\n    </tr>\n    <tr>\n        <td>4</td>\n        <td>5.0</td>\n        <td>North Center</td>\n        <td>6.0</td>\n        <td>57123</td>\n        <td>5.2</td>\n        <td>4.5</td>\n        <td>26.2</td>\n        <td>7.5</td>\n        <td>0.3</td>\n    </tr>\n    <tr>\n        <td>5</td>\n        <td>6.0</td>\n        <td>Lake View</td>\n        <td>5.0</td>\n        <td>60058</td>\n        <td>4.7</td>\n        <td>2.6</td>\n        <td>17.0</td>\n        <td>11.4</td>\n        <td>1.1</td>\n    </tr>\n    <tr>\n        <td>6</td>\n        <td>7.0</td>\n        <td>Lincoln Park</td>\n        <td>2.0</td>\n        <td>71551</td>\n        <td>5.1</td>\n        <td>3.6</td>\n        <td>21.5</td>\n        <td>12.3</td>\n        <td>0.8</td>\n    </tr>\n    <tr>\n        <td>7</td>\n        <td>8.0</td>\n        <td>Near North Side</td>\n        <td>1.0</td>\n        <td>88669</td>\n        <td>7.0</td>\n        <td>2.5</td>\n        <td>22.6</td>\n        <td>12.9</td>\n        <td>1.9</td>\n    </tr>\n    <tr>\n        <td>8</td>\n        <td>9.0</td>\n        <td>Edison Park</td>\n        <td>8.0</td>\n        <td>40959</td>\n        <td>6.5</td>\n        <td>7.4</td>\n        <td>35.3</td>\n        <td>3.3</td>\n        <td>1.1</td>\n    </tr>\n    <tr>\n        <td>9</td>\n        <td>10.0</td>\n        <td>Norwood Park</td>\n        <td>21.0</td>\n        <td>32875</td>\n        <td>9.0</td>\n        <td>11.5</td>\n        <td>39.5</td>\n        <td>5.4</td>\n        <td>2.0</td>\n    </tr>\n</table>", 
                        "text/plain": "[(0, 1.0, 'Rogers Park', 39.0, 23939, 8.7, 18.2, 27.5, 23.6, 7.7),\n (1, 2.0, 'West Ridge', 46.0, 23040, 8.8, 20.8, 38.5, 17.2, 7.8),\n (2, 3.0, 'Uptown', 20.0, 35787, 8.9, 11.8, 22.2, 24.0, 3.8),\n (3, 4.0, 'Lincoln Square', 17.0, 37524, 8.2, 13.4, 25.5, 10.9, 3.4),\n (4, 5.0, 'North Center', 6.0, 57123, 5.2, 4.5, 26.2, 7.5, 0.3),\n (5, 6.0, 'Lake View', 5.0, 60058, 4.7, 2.6, 17.0, 11.4, 1.1),\n (6, 7.0, 'Lincoln Park', 2.0, 71551, 5.1, 3.6, 21.5, 12.3, 0.8),\n (7, 8.0, 'Near North Side', 1.0, 88669, 7.0, 2.5, 22.6, 12.9, 1.9),\n (8, 9.0, 'Edison Park', 8.0, 40959, 6.5, 7.4, 35.3, 3.3, 1.1),\n (9, 10.0, 'Norwood Park', 21.0, 32875, 9.0, 11.5, 39.5, 5.4, 2.0)]"
                    }, 
                    "output_type": "execute_result"
                }
            ], 
            "source": "%sql SELECT * FROM chicago_socioeconomic_data LIMIT 10;"
        }, 
        {
            "execution_count": 5, 
            "cell_type": "code", 
            "metadata": {}, 
            "outputs": [
                {
                    "execution_count": 5, 
                    "metadata": {}, 
                    "data": {
                        "text/plain": "(78, 9)"
                    }, 
                    "output_type": "execute_result"
                }
            ], 
            "source": "chicago_socioeconomic_data.shape"
        }, 
        {
            "source": "### Exploratory data analyis\nLet's check how many community area's in Chicago have a hardship index bigger than 50:", 
            "cell_type": "markdown", 
            "metadata": {}
        }, 
        {
            "execution_count": 6, 
            "cell_type": "code", 
            "metadata": {}, 
            "outputs": [
                {
                    "output_type": "stream", 
                    "name": "stdout", 
                    "text": " * ibm_db_sa://mnj99072:***@dashdb-txn-sbox-yp-lon02-01.services.eu-gb.bluemix.net:50000/BLUDB\nDone.\n"
                }, 
                {
                    "execution_count": 6, 
                    "metadata": {}, 
                    "data": {
                        "text/html": "<table>\n    <tr>\n        <th>1</th>\n    </tr>\n    <tr>\n        <td>38</td>\n    </tr>\n</table>", 
                        "text/plain": "[(Decimal('38'),)]"
                    }, 
                    "output_type": "execute_result"
                }
            ], 
            "source": "%sql select count(*) from chicago_socioeconomic_data where hardship_index > 50;"
        }, 
        {
            "source": "Which community area has the highest hardship index?", 
            "cell_type": "markdown", 
            "metadata": {}
        }, 
        {
            "execution_count": 7, 
            "cell_type": "code", 
            "metadata": {}, 
            "outputs": [
                {
                    "output_type": "stream", 
                    "name": "stdout", 
                    "text": " * ibm_db_sa://mnj99072:***@dashdb-txn-sbox-yp-lon02-01.services.eu-gb.bluemix.net:50000/BLUDB\nDone.\n"
                }, 
                {
                    "execution_count": 7, 
                    "metadata": {}, 
                    "data": {
                        "text/html": "<table>\n    <tr>\n        <th>community_area_name</th>\n    </tr>\n    <tr>\n        <td>Riverdale</td>\n    </tr>\n</table>", 
                        "text/plain": "[('Riverdale',)]"
                    }, 
                    "output_type": "execute_result"
                }
            ], 
            "source": "%sql SELECT community_area_name from chicago_socioeconomic_data where hardship_index = 98.0;"
        }, 
        {
            "source": "Which Chicago community areas have per-capita incomes greater than $60,000?", 
            "cell_type": "markdown", 
            "metadata": {}
        }, 
        {
            "execution_count": 8, 
            "cell_type": "code", 
            "metadata": {}, 
            "outputs": [
                {
                    "output_type": "stream", 
                    "name": "stdout", 
                    "text": " * ibm_db_sa://mnj99072:***@dashdb-txn-sbox-yp-lon02-01.services.eu-gb.bluemix.net:50000/BLUDB\nDone.\n"
                }, 
                {
                    "execution_count": 8, 
                    "metadata": {}, 
                    "data": {
                        "text/html": "<table>\n    <tr>\n        <th>community_area_name</th>\n    </tr>\n    <tr>\n        <td>Lake View</td>\n    </tr>\n    <tr>\n        <td>Lincoln Park</td>\n    </tr>\n    <tr>\n        <td>Near North Side</td>\n    </tr>\n    <tr>\n        <td>Loop</td>\n    </tr>\n</table>", 
                        "text/plain": "[('Lake View',), ('Lincoln Park',), ('Near North Side',), ('Loop',)]"
                    }, 
                    "output_type": "execute_result"
                }
            ], 
            "source": "%sql select community_area_name from chicago_socioeconomic_data where per_capita_income_ > 60000;"
        }, 
        {
            "source": "Let's create a scatter plot using the columns per_capita_income_ and hardship_index:", 
            "cell_type": "markdown", 
            "metadata": {}
        }, 
        {
            "execution_count": 13, 
            "cell_type": "code", 
            "metadata": {}, 
            "outputs": [
                {
                    "output_type": "display_data", 
                    "data": {
                        "image/png": "[encoded data removed]", 
                        "text/plain": "<matplotlib.figure.Figure at 0x7fdadfa4d5c0>"
                    }, 
                    "metadata": {}
                }
            ], 
            "source": "import matplotlib.pyplot as plt\n%matplotlib inline\nimport seaborn as sn; sn.set()\n\nplot = sn.jointplot(x='per_capita_income_',y='hardship_index', data=chicago_socioeconomic_data, kind='scatter')"
        }, 
        {
            "source": "Apparently, as the per capita income increases, the hardship index decreases.   \nWe see that the points on the scatter plot are arranged towards a straight line in the negative direction, so we have a negative correlation between the two variables.  \nAlso, the pearson correlation coefficient of -0.85 is a sign of strong negative correlation.  \nThe p-value of less than 0.001 shows that the correlation is statistically significant.", 
            "cell_type": "markdown", 
            "metadata": {}
        }, 
        {
            "execution_count": 16, 
            "cell_type": "code", 
            "metadata": {}, 
            "outputs": [
                {
                    "output_type": "stream", 
                    "name": "stdout", 
                    "text": " * ibm_db_sa://mnj99072:***@dashdb-txn-sbox-yp-lon02-01.services.eu-gb.bluemix.net:50000/BLUDB\nDone.\n"
                }, 
                {
                    "output_type": "display_data", 
                    "data": {
                        "image/png": "[encoded data removed]", 
                        "text/plain": "<matplotlib.figure.Figure at 0x7fdacc115fd0>"
                    }, 
                    "metadata": {}
                }
            ], 
            "source": "import matplotlib.pyplot as plt\n%matplotlib inline\nimport seaborn as sns\n\nincome_vs_hardship = %sql SELECT per_capita_income_, percent_of_housing_crowded FROM chicago_socioeconomic_data;\nplot = sns.jointplot(x='per_capita_income_',y='percent_of_housing_crowded', data=income_vs_hardship.DataFrame())"
        }, 
        {
            "source": "Also, there seems to be a moderate negative correlation between the percentage of crowded households and the per_capita_income_.  \nThe higher the family size, the lower the per_capita_income.  \nThis is not surprising, because big families have to split their income among several people.", 
            "cell_type": "markdown", 
            "metadata": {}
        }, 
        {
            "source": "## Chapter II: Chicago public progress report cards\n### Downloading the datafile\nI downloaded the data file from the City of Chicago data storage.  \nThe csv file can be accessed here: https://ibm.box.com/shared/static/0g7kbanvn5l2gt2qu38ukooatnjqyuys.csv  \nAfter storing it in the IBM Db2 database warehouse, let's check if it is accessible by querying the database system catalog to retrieve table metadata:", 
            "cell_type": "markdown", 
            "metadata": {}
        }, 
        {
            "execution_count": 37, 
            "cell_type": "code", 
            "metadata": {}, 
            "outputs": [
                {
                    "output_type": "stream", 
                    "name": "stdout", 
                    "text": " * ibm_db_sa://mnj99072:***@dashdb-txn-sbox-yp-lon02-01.services.eu-gb.bluemix.net:50000/BLUDB\nDone.\n"
                }, 
                {
                    "execution_count": 37, 
                    "metadata": {}, 
                    "data": {
                        "text/html": "<table>\n    <tr>\n        <th>tabschema</th>\n        <th>tabname</th>\n        <th>create_time</th>\n    </tr>\n    <tr>\n        <td>MNJ99072</td>\n        <td>CHICAGO_CRIME_DATA</td>\n        <td>2018-10-30 11:15:21.038280</td>\n    </tr>\n    <tr>\n        <td>MNJ99072</td>\n        <td>EMPLOYEES</td>\n        <td>2018-10-29 14:35:28.814308</td>\n    </tr>\n    <tr>\n        <td>MNJ99072</td>\n        <td>JOB_HISTORY</td>\n        <td>2018-10-29 14:35:29.027256</td>\n    </tr>\n    <tr>\n        <td>MNJ99072</td>\n        <td>JOBS</td>\n        <td>2018-10-29 14:35:29.225604</td>\n    </tr>\n    <tr>\n        <td>MNJ99072</td>\n        <td>DEPARTMENTS</td>\n        <td>2018-10-29 14:35:29.421177</td>\n    </tr>\n    <tr>\n        <td>MNJ99072</td>\n        <td>LOCATIONS</td>\n        <td>2018-10-29 14:35:29.614347</td>\n    </tr>\n    <tr>\n        <td>MNJ99072</td>\n        <td>INSTRUCTOR</td>\n        <td>2018-11-24 16:22:26.267762</td>\n    </tr>\n    <tr>\n        <td>MNJ99072</td>\n        <td>INTERNATIONAL_STUDENT_TEST_SCORES</td>\n        <td>2018-11-24 16:34:41.326733</td>\n    </tr>\n    <tr>\n        <td>MNJ99072</td>\n        <td>CHICAGO_SOCIOECONOMIC_DATA</td>\n        <td>2018-11-24 17:56:23.373526</td>\n    </tr>\n    <tr>\n        <td>MNJ99072</td>\n        <td>SCHOOLS</td>\n        <td>2018-11-24 18:02:20.431628</td>\n    </tr>\n</table>", 
                        "text/plain": "[('MNJ99072', 'CHICAGO_CRIME_DATA', datetime.datetime(2018, 10, 30, 11, 15, 21, 38280)),\n ('MNJ99072', 'EMPLOYEES', datetime.datetime(2018, 10, 29, 14, 35, 28, 814308)),\n ('MNJ99072', 'JOB_HISTORY', datetime.datetime(2018, 10, 29, 14, 35, 29, 27256)),\n ('MNJ99072', 'JOBS', datetime.datetime(2018, 10, 29, 14, 35, 29, 225604)),\n ('MNJ99072', 'DEPARTMENTS', datetime.datetime(2018, 10, 29, 14, 35, 29, 421177)),\n ('MNJ99072', 'LOCATIONS', datetime.datetime(2018, 10, 29, 14, 35, 29, 614347)),\n ('MNJ99072', 'INSTRUCTOR', datetime.datetime(2018, 11, 24, 16, 22, 26, 267762)),\n ('MNJ99072', 'INTERNATIONAL_STUDENT_TEST_SCORES', datetime.datetime(2018, 11, 24, 16, 34, 41, 326733)),\n ('MNJ99072', 'CHICAGO_SOCIOECONOMIC_DATA', datetime.datetime(2018, 11, 24, 17, 56, 23, 373526)),\n ('MNJ99072', 'SCHOOLS', datetime.datetime(2018, 11, 24, 18, 2, 20, 431628))]"
                    }, 
                    "output_type": "execute_result"
                }
            ], 
            "source": "# query to retrieve list of all tables in the database\n%sql select TABSCHEMA, TABNAME, CREATE_TIME from syscat.tables where tabschema='MNJ99072';"
        }, 
        {
            "execution_count": 38, 
            "cell_type": "code", 
            "metadata": {}, 
            "outputs": [
                {
                    "output_type": "stream", 
                    "name": "stdout", 
                    "text": " * ibm_db_sa://mnj99072:***@dashdb-txn-sbox-yp-lon02-01.services.eu-gb.bluemix.net:50000/BLUDB\nDone.\n"
                }, 
                {
                    "execution_count": 38, 
                    "metadata": {}, 
                    "data": {
                        "text/html": "<table>\n    <tr>\n        <th>1</th>\n    </tr>\n    <tr>\n        <td>79</td>\n    </tr>\n</table>", 
                        "text/plain": "[(Decimal('79'),)]"
                    }, 
                    "output_type": "execute_result"
                }
            ], 
            "source": "# query to retrieve the number of columns in the SCHOOLS table\n%sql select count(*) from syscat.columns where tabname = 'SCHOOLS';"
        }, 
        {
            "source": "Let's retrieve the list of columns in the SCHOOLS table and their column type (datatype) and length:", 
            "cell_type": "markdown", 
            "metadata": {}
        }, 
        {
            "execution_count": 39, 
            "cell_type": "code", 
            "metadata": {}, 
            "outputs": [
                {
                    "output_type": "stream", 
                    "name": "stdout", 
                    "text": " * ibm_db_sa://mnj99072:***@dashdb-txn-sbox-yp-lon02-01.services.eu-gb.bluemix.net:50000/BLUDB\nDone.\n"
                }, 
                {
                    "execution_count": 39, 
                    "metadata": {}, 
                    "data": {
                        "text/html": "<table>\n    <tr>\n        <th>colname</th>\n        <th>typename</th>\n        <th>length</th>\n    </tr>\n    <tr>\n        <td>11th Grade Average ACT (2011)</td>\n        <td>VARCHAR</td>\n        <td>4</td>\n    </tr>\n    <tr>\n        <td>Net_Change_PLAN_and_ACT</td>\n        <td>VARCHAR</td>\n        <td>3</td>\n    </tr>\n    <tr>\n        <td>College_Eligibility__</td>\n        <td>VARCHAR</td>\n        <td>4</td>\n    </tr>\n    <tr>\n        <td>Graduation_Rate__</td>\n        <td>VARCHAR</td>\n        <td>4</td>\n    </tr>\n    <tr>\n        <td>College_Enrollment_Rate__</td>\n        <td>VARCHAR</td>\n        <td>4</td>\n    </tr>\n    <tr>\n        <td>College_Enrollment__number_of_students_</td>\n        <td>SMALLINT</td>\n        <td>2</td>\n    </tr>\n    <tr>\n        <td>General_Services_Route</td>\n        <td>SMALLINT</td>\n        <td>2</td>\n    </tr>\n    <tr>\n        <td>Freshman_on_Track_Rate__</td>\n        <td>VARCHAR</td>\n        <td>4</td>\n    </tr>\n    <tr>\n        <td>RCDTS_Code</td>\n        <td>BIGINT</td>\n        <td>8</td>\n    </tr>\n    <tr>\n        <td>X_COORDINATE</td>\n        <td>DECIMAL</td>\n        <td>13</td>\n    </tr>\n    <tr>\n        <td>Y_COORDINATE</td>\n        <td>DECIMAL</td>\n        <td>13</td>\n    </tr>\n    <tr>\n        <td>School_ID</td>\n        <td>INTEGER</td>\n        <td>4</td>\n    </tr>\n    <tr>\n        <td>Name_of_School</td>\n        <td>VARCHAR</td>\n        <td>65</td>\n    </tr>\n    <tr>\n        <td>Elementary, Middle, or High School</td>\n        <td>VARCHAR</td>\n        <td>2</td>\n    </tr>\n    <tr>\n        <td>Street_Address</td>\n        <td>VARCHAR</td>\n        <td>30</td>\n    </tr>\n    <tr>\n        <td>City</td>\n        <td>VARCHAR</td>\n        <td>7</td>\n    </tr>\n    <tr>\n        <td>State</td>\n        <td>VARCHAR</td>\n        <td>2</td>\n    </tr>\n    <tr>\n        <td>ZIP_Code</td>\n        <td>INTEGER</td>\n        <td>4</td>\n    </tr>\n    <tr>\n        <td>Phone_Number</td>\n        <td>VARCHAR</td>\n        <td>14</td>\n    </tr>\n    <tr>\n        <td>Link</td>\n        <td>VARCHAR</td>\n        <td>78</td>\n    </tr>\n    <tr>\n        <td>Network_Manager</td>\n        <td>VARCHAR</td>\n        <td>40</td>\n    </tr>\n    <tr>\n        <td>Collaborative_Name</td>\n        <td>VARCHAR</td>\n        <td>34</td>\n    </tr>\n    <tr>\n        <td>Adequate_Yearly_Progress_Made_</td>\n        <td>VARCHAR</td>\n        <td>3</td>\n    </tr>\n    <tr>\n        <td>Track_Schedule</td>\n        <td>VARCHAR</td>\n        <td>12</td>\n    </tr>\n    <tr>\n        <td>CPS_Performance_Policy_Status</td>\n        <td>VARCHAR</td>\n        <td>16</td>\n    </tr>\n    <tr>\n        <td>CPS_Performance_Policy_Level</td>\n        <td>VARCHAR</td>\n        <td>15</td>\n    </tr>\n    <tr>\n        <td>Healthy_Schools_Certified_</td>\n        <td>VARCHAR</td>\n        <td>3</td>\n    </tr>\n    <tr>\n        <td>Safety_Icon</td>\n        <td>VARCHAR</td>\n        <td>11</td>\n    </tr>\n    <tr>\n        <td>Safety_Score</td>\n        <td>SMALLINT</td>\n        <td>2</td>\n    </tr>\n    <tr>\n        <td>Family_Involvement_Icon</td>\n        <td>VARCHAR</td>\n        <td>11</td>\n    </tr>\n    <tr>\n        <td>Family_Involvement_Score</td>\n        <td>VARCHAR</td>\n        <td>3</td>\n    </tr>\n    <tr>\n        <td>Environment_Icon</td>\n        <td>VARCHAR</td>\n        <td>11</td>\n    </tr>\n    <tr>\n        <td>Environment_Score</td>\n        <td>SMALLINT</td>\n        <td>2</td>\n    </tr>\n    <tr>\n        <td>Instruction_Icon</td>\n        <td>VARCHAR</td>\n        <td>11</td>\n    </tr>\n    <tr>\n        <td>Instruction_Score</td>\n        <td>SMALLINT</td>\n        <td>2</td>\n    </tr>\n    <tr>\n        <td>Leaders_Icon</td>\n        <td>VARCHAR</td>\n        <td>11</td>\n    </tr>\n    <tr>\n        <td>Leaders_Score</td>\n        <td>VARCHAR</td>\n        <td>3</td>\n    </tr>\n    <tr>\n        <td>Teachers_Icon</td>\n        <td>VARCHAR</td>\n        <td>11</td>\n    </tr>\n    <tr>\n        <td>Teachers_Score</td>\n        <td>VARCHAR</td>\n        <td>3</td>\n    </tr>\n    <tr>\n        <td>Parent_Engagement_Icon</td>\n        <td>VARCHAR</td>\n        <td>7</td>\n    </tr>\n    <tr>\n        <td>Parent_Engagement_Score</td>\n        <td>VARCHAR</td>\n        <td>3</td>\n    </tr>\n    <tr>\n        <td>Parent_Environment_Icon</td>\n        <td>VARCHAR</td>\n        <td>7</td>\n    </tr>\n    <tr>\n        <td>Parent_Environment_Score</td>\n        <td>VARCHAR</td>\n        <td>3</td>\n    </tr>\n    <tr>\n        <td>Average_Student_Attendance</td>\n        <td>VARCHAR</td>\n        <td>5</td>\n    </tr>\n    <tr>\n        <td>Rate_of_Misconducts__per_100_students_</td>\n        <td>DECIMAL</td>\n        <td>5</td>\n    </tr>\n    <tr>\n        <td>Average_Teacher_Attendance</td>\n        <td>VARCHAR</td>\n        <td>5</td>\n    </tr>\n    <tr>\n        <td>Individualized_Education_Program_Compliance_Rate</td>\n        <td>VARCHAR</td>\n        <td>6</td>\n    </tr>\n    <tr>\n        <td>Pk_2_Literacy__</td>\n        <td>VARCHAR</td>\n        <td>4</td>\n    </tr>\n    <tr>\n        <td>Pk_2_Math__</td>\n        <td>VARCHAR</td>\n        <td>4</td>\n    </tr>\n    <tr>\n        <td>Gr3_5_Grade_Level_Math__</td>\n        <td>VARCHAR</td>\n        <td>4</td>\n    </tr>\n    <tr>\n        <td>Gr3_5_Grade_Level_Read__</td>\n        <td>VARCHAR</td>\n        <td>4</td>\n    </tr>\n    <tr>\n        <td>Gr3_5_Keep_Pace_Read__</td>\n        <td>VARCHAR</td>\n        <td>4</td>\n    </tr>\n    <tr>\n        <td>Gr3_5_Keep_Pace_Math__</td>\n        <td>VARCHAR</td>\n        <td>4</td>\n    </tr>\n    <tr>\n        <td>Gr6_8_Grade_Level_Math__</td>\n        <td>VARCHAR</td>\n        <td>4</td>\n    </tr>\n    <tr>\n        <td>Gr6_8_Grade_Level_Read__</td>\n        <td>VARCHAR</td>\n        <td>4</td>\n    </tr>\n    <tr>\n        <td>Gr6_8_Keep_Pace_Math_</td>\n        <td>VARCHAR</td>\n        <td>4</td>\n    </tr>\n    <tr>\n        <td>Gr6_8_Keep_Pace_Read__</td>\n        <td>VARCHAR</td>\n        <td>4</td>\n    </tr>\n    <tr>\n        <td>Gr_8_Explore_Math__</td>\n        <td>VARCHAR</td>\n        <td>4</td>\n    </tr>\n    <tr>\n        <td>Gr_8_Explore_Read__</td>\n        <td>VARCHAR</td>\n        <td>4</td>\n    </tr>\n    <tr>\n        <td>ISAT_Exceeding_Math__</td>\n        <td>DECIMAL</td>\n        <td>4</td>\n    </tr>\n    <tr>\n        <td>ISAT_Exceeding_Reading__</td>\n        <td>DECIMAL</td>\n        <td>4</td>\n    </tr>\n    <tr>\n        <td>ISAT_Value_Add_Math</td>\n        <td>DECIMAL</td>\n        <td>3</td>\n    </tr>\n    <tr>\n        <td>ISAT_Value_Add_Read</td>\n        <td>DECIMAL</td>\n        <td>3</td>\n    </tr>\n    <tr>\n        <td>ISAT_Value_Add_Color_Math</td>\n        <td>VARCHAR</td>\n        <td>6</td>\n    </tr>\n    <tr>\n        <td>ISAT_Value_Add_Color_Read</td>\n        <td>VARCHAR</td>\n        <td>6</td>\n    </tr>\n    <tr>\n        <td>Students_Taking__Algebra__</td>\n        <td>VARCHAR</td>\n        <td>4</td>\n    </tr>\n    <tr>\n        <td>Students_Passing__Algebra__</td>\n        <td>VARCHAR</td>\n        <td>4</td>\n    </tr>\n    <tr>\n        <td>9th Grade EXPLORE (2009)</td>\n        <td>VARCHAR</td>\n        <td>4</td>\n    </tr>\n    <tr>\n        <td>9th Grade EXPLORE (2010)</td>\n        <td>VARCHAR</td>\n        <td>4</td>\n    </tr>\n    <tr>\n        <td>10th Grade PLAN (2009)</td>\n        <td>VARCHAR</td>\n        <td>4</td>\n    </tr>\n    <tr>\n        <td>10th Grade PLAN (2010)</td>\n        <td>VARCHAR</td>\n        <td>4</td>\n    </tr>\n    <tr>\n        <td>Net_Change_EXPLORE_and_PLAN</td>\n        <td>VARCHAR</td>\n        <td>3</td>\n    </tr>\n    <tr>\n        <td>Latitude</td>\n        <td>DECIMAL</td>\n        <td>18</td>\n    </tr>\n    <tr>\n        <td>Longitude</td>\n        <td>DECIMAL</td>\n        <td>18</td>\n    </tr>\n    <tr>\n        <td>Community_Area_Number</td>\n        <td>SMALLINT</td>\n        <td>2</td>\n    </tr>\n    <tr>\n        <td>Community_Area_Name</td>\n        <td>VARCHAR</td>\n        <td>22</td>\n    </tr>\n    <tr>\n        <td>Ward</td>\n        <td>SMALLINT</td>\n        <td>2</td>\n    </tr>\n    <tr>\n        <td>Police_District</td>\n        <td>SMALLINT</td>\n        <td>2</td>\n    </tr>\n    <tr>\n        <td>Location</td>\n        <td>VARCHAR</td>\n        <td>27</td>\n    </tr>\n</table>", 
                        "text/plain": "[('11th Grade Average ACT (2011)', 'VARCHAR', 4),\n ('Net_Change_PLAN_and_ACT', 'VARCHAR', 3),\n ('College_Eligibility__', 'VARCHAR', 4),\n ('Graduation_Rate__', 'VARCHAR', 4),\n ('College_Enrollment_Rate__', 'VARCHAR', 4),\n ('College_Enrollment__number_of_students_', 'SMALLINT', 2),\n ('General_Services_Route', 'SMALLINT', 2),\n ('Freshman_on_Track_Rate__', 'VARCHAR', 4),\n ('RCDTS_Code', 'BIGINT', 8),\n ('X_COORDINATE', 'DECIMAL', 13),\n ('Y_COORDINATE', 'DECIMAL', 13),\n ('School_ID', 'INTEGER', 4),\n ('Name_of_School', 'VARCHAR', 65),\n ('Elementary, Middle, or High School', 'VARCHAR', 2),\n ('Street_Address', 'VARCHAR', 30),\n ('City', 'VARCHAR', 7),\n ('State', 'VARCHAR', 2),\n ('ZIP_Code', 'INTEGER', 4),\n ('Phone_Number', 'VARCHAR', 14),\n ('Link', 'VARCHAR', 78),\n ('Network_Manager', 'VARCHAR', 40),\n ('Collaborative_Name', 'VARCHAR', 34),\n ('Adequate_Yearly_Progress_Made_', 'VARCHAR', 3),\n ('Track_Schedule', 'VARCHAR', 12),\n ('CPS_Performance_Policy_Status', 'VARCHAR', 16),\n ('CPS_Performance_Policy_Level', 'VARCHAR', 15),\n ('Healthy_Schools_Certified_', 'VARCHAR', 3),\n ('Safety_Icon', 'VARCHAR', 11),\n ('Safety_Score', 'SMALLINT', 2),\n ('Family_Involvement_Icon', 'VARCHAR', 11),\n ('Family_Involvement_Score', 'VARCHAR', 3),\n ('Environment_Icon', 'VARCHAR', 11),\n ('Environment_Score', 'SMALLINT', 2),\n ('Instruction_Icon', 'VARCHAR', 11),\n ('Instruction_Score', 'SMALLINT', 2),\n ('Leaders_Icon', 'VARCHAR', 11),\n ('Leaders_Score', 'VARCHAR', 3),\n ('Teachers_Icon', 'VARCHAR', 11),\n ('Teachers_Score', 'VARCHAR', 3),\n ('Parent_Engagement_Icon', 'VARCHAR', 7),\n ('Parent_Engagement_Score', 'VARCHAR', 3),\n ('Parent_Environment_Icon', 'VARCHAR', 7),\n ('Parent_Environment_Score', 'VARCHAR', 3),\n ('Average_Student_Attendance', 'VARCHAR', 5),\n ('Rate_of_Misconducts__per_100_students_', 'DECIMAL', 5),\n ('Average_Teacher_Attendance', 'VARCHAR', 5),\n ('Individualized_Education_Program_Compliance_Rate', 'VARCHAR', 6),\n ('Pk_2_Literacy__', 'VARCHAR', 4),\n ('Pk_2_Math__', 'VARCHAR', 4),\n ('Gr3_5_Grade_Level_Math__', 'VARCHAR', 4),\n ('Gr3_5_Grade_Level_Read__', 'VARCHAR', 4),\n ('Gr3_5_Keep_Pace_Read__', 'VARCHAR', 4),\n ('Gr3_5_Keep_Pace_Math__', 'VARCHAR', 4),\n ('Gr6_8_Grade_Level_Math__', 'VARCHAR', 4),\n ('Gr6_8_Grade_Level_Read__', 'VARCHAR', 4),\n ('Gr6_8_Keep_Pace_Math_', 'VARCHAR', 4),\n ('Gr6_8_Keep_Pace_Read__', 'VARCHAR', 4),\n ('Gr_8_Explore_Math__', 'VARCHAR', 4),\n ('Gr_8_Explore_Read__', 'VARCHAR', 4),\n ('ISAT_Exceeding_Math__', 'DECIMAL', 4),\n ('ISAT_Exceeding_Reading__', 'DECIMAL', 4),\n ('ISAT_Value_Add_Math', 'DECIMAL', 3),\n ('ISAT_Value_Add_Read', 'DECIMAL', 3),\n ('ISAT_Value_Add_Color_Math', 'VARCHAR', 6),\n ('ISAT_Value_Add_Color_Read', 'VARCHAR', 6),\n ('Students_Taking__Algebra__', 'VARCHAR', 4),\n ('Students_Passing__Algebra__', 'VARCHAR', 4),\n ('9th Grade EXPLORE (2009)', 'VARCHAR', 4),\n ('9th Grade EXPLORE (2010)', 'VARCHAR', 4),\n ('10th Grade PLAN (2009)', 'VARCHAR', 4),\n ('10th Grade PLAN (2010)', 'VARCHAR', 4),\n ('Net_Change_EXPLORE_and_PLAN', 'VARCHAR', 3),\n ('Latitude', 'DECIMAL', 18),\n ('Longitude', 'DECIMAL', 18),\n ('Community_Area_Number', 'SMALLINT', 2),\n ('Community_Area_Name', 'VARCHAR', 22),\n ('Ward', 'SMALLINT', 2),\n ('Police_District', 'SMALLINT', 2),\n ('Location', 'VARCHAR', 27)]"
                    }, 
                    "output_type": "execute_result"
                }
            ], 
            "source": "# uery to retrieve all column names in the SCHOOLS table along with their datatypes and length\n%sql select COLNAME, TYPENAME, LENGTH from SYSCAT.COLUMNS where TABNAME = 'SCHOOLS';"
        }, 
        {
            "source": "### Exploratory data analysis\nLet's check how many elementary schools there are in the dataset:", 
            "cell_type": "markdown", 
            "metadata": {}
        }, 
        {
            "execution_count": 40, 
            "cell_type": "code", 
            "metadata": {}, 
            "outputs": [
                {
                    "output_type": "stream", 
                    "name": "stdout", 
                    "text": " * ibm_db_sa://mnj99072:***@dashdb-txn-sbox-yp-lon02-01.services.eu-gb.bluemix.net:50000/BLUDB\nDone.\n"
                }, 
                {
                    "execution_count": 40, 
                    "metadata": {}, 
                    "data": {
                        "text/html": "<table>\n    <tr>\n        <th>1</th>\n    </tr>\n    <tr>\n        <td>462</td>\n    </tr>\n</table>", 
                        "text/plain": "[(Decimal('462'),)]"
                    }, 
                    "output_type": "execute_result"
                }
            ], 
            "source": "%sql select count(*) from SCHOOLS where \"Elementary, Middle, or High School\" = 'ES';"
        }, 
        {
            "source": "What is the highest Safety Score?", 
            "cell_type": "markdown", 
            "metadata": {}
        }, 
        {
            "execution_count": 41, 
            "cell_type": "code", 
            "metadata": {}, 
            "outputs": [
                {
                    "output_type": "stream", 
                    "name": "stdout", 
                    "text": " * ibm_db_sa://mnj99072:***@dashdb-txn-sbox-yp-lon02-01.services.eu-gb.bluemix.net:50000/BLUDB\nDone.\n"
                }, 
                {
                    "execution_count": 41, 
                    "metadata": {}, 
                    "data": {
                        "text/html": "<table>\n    <tr>\n        <th>1</th>\n    </tr>\n    <tr>\n        <td>99</td>\n    </tr>\n</table>", 
                        "text/plain": "[(99,)]"
                    }, 
                    "output_type": "execute_result"
                }
            ], 
            "source": "%sql select Max(\"Safety_Score\") from SCHOOLS;"
        }, 
        {
            "source": "Which schools have the highest Safety Score?", 
            "cell_type": "markdown", 
            "metadata": {}
        }, 
        {
            "execution_count": 22, 
            "cell_type": "code", 
            "metadata": {}, 
            "outputs": [
                {
                    "output_type": "stream", 
                    "name": "stdout", 
                    "text": " * ibm_db_sa://mnj99072:***@dashdb-txn-sbox-yp-lon02-01.services.eu-gb.bluemix.net:50000/BLUDB\nDone.\n"
                }, 
                {
                    "execution_count": 22, 
                    "metadata": {}, 
                    "data": {
                        "text/html": "<table>\n    <tr>\n        <th>Name_of_School</th>\n    </tr>\n    <tr>\n        <td>Abraham Lincoln Elementary School</td>\n    </tr>\n    <tr>\n        <td>Alexander Graham Bell Elementary School</td>\n    </tr>\n    <tr>\n        <td>Annie Keller Elementary Gifted Magnet School</td>\n    </tr>\n    <tr>\n        <td>Augustus H Burley Elementary School</td>\n    </tr>\n    <tr>\n        <td>Edgar Allan Poe Elementary Classical School</td>\n    </tr>\n    <tr>\n        <td>Edgebrook Elementary School</td>\n    </tr>\n    <tr>\n        <td>Ellen Mitchell Elementary School</td>\n    </tr>\n    <tr>\n        <td>James E McDade Elementary Classical School</td>\n    </tr>\n    <tr>\n        <td>James G Blaine Elementary School</td>\n    </tr>\n    <tr>\n        <td>LaSalle Elementary Language Academy</td>\n    </tr>\n    <tr>\n        <td>Mary E Courtenay Elementary Language Arts Center</td>\n    </tr>\n    <tr>\n        <td>Northside College Preparatory High School</td>\n    </tr>\n    <tr>\n        <td>Northside Learning Center High School</td>\n    </tr>\n    <tr>\n        <td>Norwood Park Elementary School</td>\n    </tr>\n    <tr>\n        <td>Oriole Park Elementary School</td>\n    </tr>\n    <tr>\n        <td>Sauganash Elementary School</td>\n    </tr>\n    <tr>\n        <td>Stephen Decatur Classical Elementary School</td>\n    </tr>\n    <tr>\n        <td>Talman Elementary School</td>\n    </tr>\n    <tr>\n        <td>Wildwood Elementary School</td>\n    </tr>\n</table>", 
                        "text/plain": "[('Abraham Lincoln Elementary School',),\n ('Alexander Graham Bell Elementary School',),\n ('Annie Keller Elementary Gifted Magnet School',),\n ('Augustus H Burley Elementary School',),\n ('Edgar Allan Poe Elementary Classical School',),\n ('Edgebrook Elementary School',),\n ('Ellen Mitchell Elementary School',),\n ('James E McDade Elementary Classical School',),\n ('James G Blaine Elementary School',),\n ('LaSalle Elementary Language Academy',),\n ('Mary E Courtenay Elementary Language Arts Center',),\n ('Northside College Preparatory High School',),\n ('Northside Learning Center High School',),\n ('Norwood Park Elementary School',),\n ('Oriole Park Elementary School',),\n ('Sauganash Elementary School',),\n ('Stephen Decatur Classical Elementary School',),\n ('Talman Elementary School',),\n ('Wildwood Elementary School',)]"
                    }, 
                    "output_type": "execute_result"
                }
            ], 
            "source": "%sql select \"Name_of_School\" from SCHOOLS where \"Safety_Score\" = 99;"
        }, 
        {
            "source": "What are the top 10 schools with the highest \"Average Student Attendance\"?", 
            "cell_type": "markdown", 
            "metadata": {}
        }, 
        {
            "execution_count": 23, 
            "cell_type": "code", 
            "metadata": {}, 
            "outputs": [
                {
                    "output_type": "stream", 
                    "name": "stdout", 
                    "text": " * ibm_db_sa://mnj99072:***@dashdb-txn-sbox-yp-lon02-01.services.eu-gb.bluemix.net:50000/BLUDB\nDone.\n"
                }, 
                {
                    "execution_count": 23, 
                    "metadata": {}, 
                    "data": {
                        "text/html": "<table>\n    <tr>\n        <th>Name_of_School</th>\n        <th>Average_Student_Attendance</th>\n    </tr>\n    <tr>\n        <td>John Charles Haines Elementary School</td>\n        <td>98.4%</td>\n    </tr>\n    <tr>\n        <td>James Ward Elementary School</td>\n        <td>97.8%</td>\n    </tr>\n    <tr>\n        <td>Edgar Allan Poe Elementary Classical School</td>\n        <td>97.6%</td>\n    </tr>\n    <tr>\n        <td>Orozco Fine Arts &amp; Sciences Elementary School</td>\n        <td>97.6%</td>\n    </tr>\n    <tr>\n        <td>Rachel Carson Elementary School</td>\n        <td>97.6%</td>\n    </tr>\n    <tr>\n        <td>Annie Keller Elementary Gifted Magnet School</td>\n        <td>97.5%</td>\n    </tr>\n    <tr>\n        <td>Andrew Jackson Elementary Language Academy</td>\n        <td>97.4%</td>\n    </tr>\n    <tr>\n        <td>Lenart Elementary Regional Gifted Center</td>\n        <td>97.4%</td>\n    </tr>\n    <tr>\n        <td>Disney II Magnet School</td>\n        <td>97.3%</td>\n    </tr>\n    <tr>\n        <td>John H Vanderpoel Elementary Magnet School</td>\n        <td>97.2%</td>\n    </tr>\n</table>", 
                        "text/plain": "[('John Charles Haines Elementary School', '98.4%'),\n ('James Ward Elementary School', '97.8%'),\n ('Edgar Allan Poe Elementary Classical School', '97.6%'),\n ('Orozco Fine Arts & Sciences Elementary School', '97.6%'),\n ('Rachel Carson Elementary School', '97.6%'),\n ('Annie Keller Elementary Gifted Magnet School', '97.5%'),\n ('Andrew Jackson Elementary Language Academy', '97.4%'),\n ('Lenart Elementary Regional Gifted Center', '97.4%'),\n ('Disney II Magnet School', '97.3%'),\n ('John H Vanderpoel Elementary Magnet School', '97.2%')]"
                    }, 
                    "output_type": "execute_result"
                }
            ], 
            "source": "%sql select \"Name_of_School\", \"Average_Student_Attendance\" from SCHOOLS order by \"Average_Student_Attendance\" DESC nulls last limit 10;"
        }, 
        {
            "source": "Let's retrieve the list of 5 schools with the lowest Average Student Attendance sorted in ascending order based on attendance:", 
            "cell_type": "markdown", 
            "metadata": {}
        }, 
        {
            "execution_count": 24, 
            "cell_type": "code", 
            "metadata": {}, 
            "outputs": [
                {
                    "output_type": "stream", 
                    "name": "stdout", 
                    "text": " * ibm_db_sa://mnj99072:***@dashdb-txn-sbox-yp-lon02-01.services.eu-gb.bluemix.net:50000/BLUDB\nDone.\n"
                }, 
                {
                    "execution_count": 24, 
                    "metadata": {}, 
                    "data": {
                        "text/html": "<table>\n    <tr>\n        <th>Name_of_School</th>\n        <th>Average_Student_Attendance</th>\n    </tr>\n    <tr>\n        <td>Richard T Crane Technical Preparatory High School</td>\n        <td>57.9%</td>\n    </tr>\n    <tr>\n        <td>Barbara Vick Early Childhood &amp; Family Center</td>\n        <td>60.9%</td>\n    </tr>\n    <tr>\n        <td>Dyett High School</td>\n        <td>62.5%</td>\n    </tr>\n    <tr>\n        <td>Wendell Phillips Academy High School</td>\n        <td>63.0%</td>\n    </tr>\n    <tr>\n        <td>Orr Academy High School</td>\n        <td>66.3%</td>\n    </tr>\n</table>", 
                        "text/plain": "[('Richard T Crane Technical Preparatory High School', '57.9%'),\n ('Barbara Vick Early Childhood & Family Center', '60.9%'),\n ('Dyett High School', '62.5%'),\n ('Wendell Phillips Academy High School', '63.0%'),\n ('Orr Academy High School', '66.3%')]"
                    }, 
                    "output_type": "execute_result"
                }
            ], 
            "source": "%sql select \"Name_of_School\", \"Average_Student_Attendance\" from SCHOOLS order by \"Average_Student_Attendance\" fetch first 5 rows only;"
        }, 
        {
            "source": "Now, let's remove the '%' sign from the above result set for Average Student Attendance column:", 
            "cell_type": "markdown", 
            "metadata": {}
        }, 
        {
            "execution_count": 25, 
            "cell_type": "code", 
            "metadata": {}, 
            "outputs": [
                {
                    "output_type": "stream", 
                    "name": "stdout", 
                    "text": " * ibm_db_sa://mnj99072:***@dashdb-txn-sbox-yp-lon02-01.services.eu-gb.bluemix.net:50000/BLUDB\nDone.\n"
                }, 
                {
                    "execution_count": 25, 
                    "metadata": {}, 
                    "data": {
                        "text/html": "<table>\n    <tr>\n        <th>Name_of_School</th>\n        <th>2</th>\n    </tr>\n    <tr>\n        <td>Richard T Crane Technical Preparatory High School</td>\n        <td>57.9</td>\n    </tr>\n    <tr>\n        <td>Barbara Vick Early Childhood &amp; Family Center</td>\n        <td>60.9</td>\n    </tr>\n    <tr>\n        <td>Dyett High School</td>\n        <td>62.5</td>\n    </tr>\n    <tr>\n        <td>Wendell Phillips Academy High School</td>\n        <td>63.0</td>\n    </tr>\n    <tr>\n        <td>Orr Academy High School</td>\n        <td>66.3</td>\n    </tr>\n</table>", 
                        "text/plain": "[('Richard T Crane Technical Preparatory High School', '57.9'),\n ('Barbara Vick Early Childhood & Family Center', '60.9'),\n ('Dyett High School', '62.5'),\n ('Wendell Phillips Academy High School', '63.0'),\n ('Orr Academy High School', '66.3')]"
                    }, 
                    "output_type": "execute_result"
                }
            ], 
            "source": "%sql select \"Name_of_School\", REPLACE(\"Average_Student_Attendance\", '%', '') from SCHOOLS order by \"Average_Student_Attendance\" fetch first 5 rows only;"
        }, 
        {
            "source": "Which Schools have Average Student Attendance lower than 70%?", 
            "cell_type": "markdown", 
            "metadata": {}
        }, 
        {
            "execution_count": 26, 
            "cell_type": "code", 
            "metadata": {}, 
            "outputs": [
                {
                    "output_type": "stream", 
                    "name": "stdout", 
                    "text": " * ibm_db_sa://mnj99072:***@dashdb-txn-sbox-yp-lon02-01.services.eu-gb.bluemix.net:50000/BLUDB\nDone.\n"
                }, 
                {
                    "execution_count": 26, 
                    "metadata": {}, 
                    "data": {
                        "text/html": "<table>\n    <tr>\n        <th>Name_of_School</th>\n        <th>2</th>\n    </tr>\n    <tr>\n        <td>Richard T Crane Technical Preparatory High School</td>\n        <td>57.9</td>\n    </tr>\n    <tr>\n        <td>Barbara Vick Early Childhood &amp; Family Center</td>\n        <td>60.9</td>\n    </tr>\n    <tr>\n        <td>Dyett High School</td>\n        <td>62.5</td>\n    </tr>\n    <tr>\n        <td>Wendell Phillips Academy High School</td>\n        <td>63.0</td>\n    </tr>\n    <tr>\n        <td>Orr Academy High School</td>\n        <td>66.3</td>\n    </tr>\n</table>", 
                        "text/plain": "[('Richard T Crane Technical Preparatory High School', '57.9'),\n ('Barbara Vick Early Childhood & Family Center', '60.9'),\n ('Dyett High School', '62.5'),\n ('Wendell Phillips Academy High School', '63.0'),\n ('Orr Academy High School', '66.3')]"
                    }, 
                    "output_type": "execute_result"
                }
            ], 
            "source": "%sql select \"Name_of_School\", REPLACE(\"Average_Student_Attendance\", '%', '') from SCHOOLS order by \"Average_Student_Attendance\" fetch first 5 rows only;"
        }, 
        {
            "source": "Let's get the total College Enrollment (number of students) for each Community Area:", 
            "cell_type": "markdown", 
            "metadata": {}
        }, 
        {
            "execution_count": 27, 
            "cell_type": "code", 
            "metadata": {}, 
            "outputs": [
                {
                    "output_type": "stream", 
                    "name": "stdout", 
                    "text": " * ibm_db_sa://mnj99072:***@dashdb-txn-sbox-yp-lon02-01.services.eu-gb.bluemix.net:50000/BLUDB\nDone.\n"
                }, 
                {
                    "execution_count": 27, 
                    "metadata": {}, 
                    "data": {
                        "text/html": "<table>\n    <tr>\n        <th>Community_Area_Name</th>\n        <th>total_enrollment</th>\n    </tr>\n    <tr>\n        <td>ALBANY PARK</td>\n        <td>6864</td>\n    </tr>\n    <tr>\n        <td>ARCHER HEIGHTS</td>\n        <td>4823</td>\n    </tr>\n    <tr>\n        <td>ARMOUR SQUARE</td>\n        <td>1458</td>\n    </tr>\n    <tr>\n        <td>ASHBURN</td>\n        <td>6483</td>\n    </tr>\n    <tr>\n        <td>AUBURN GRESHAM</td>\n        <td>4175</td>\n    </tr>\n    <tr>\n        <td>AUSTIN</td>\n        <td>10933</td>\n    </tr>\n    <tr>\n        <td>AVALON PARK</td>\n        <td>1522</td>\n    </tr>\n    <tr>\n        <td>AVONDALE</td>\n        <td>3640</td>\n    </tr>\n    <tr>\n        <td>BELMONT CRAGIN</td>\n        <td>14386</td>\n    </tr>\n    <tr>\n        <td>BEVERLY</td>\n        <td>1636</td>\n    </tr>\n    <tr>\n        <td>BRIDGEPORT</td>\n        <td>3167</td>\n    </tr>\n    <tr>\n        <td>BRIGHTON PARK</td>\n        <td>9647</td>\n    </tr>\n    <tr>\n        <td>BURNSIDE</td>\n        <td>549</td>\n    </tr>\n    <tr>\n        <td>CALUMET HEIGHTS</td>\n        <td>1568</td>\n    </tr>\n    <tr>\n        <td>CHATHAM</td>\n        <td>5042</td>\n    </tr>\n    <tr>\n        <td>CHICAGO LAWN</td>\n        <td>7086</td>\n    </tr>\n    <tr>\n        <td>CLEARING</td>\n        <td>2085</td>\n    </tr>\n    <tr>\n        <td>DOUGLAS</td>\n        <td>4670</td>\n    </tr>\n    <tr>\n        <td>DUNNING</td>\n        <td>4568</td>\n    </tr>\n    <tr>\n        <td>EAST GARFIELD PARK</td>\n        <td>5337</td>\n    </tr>\n    <tr>\n        <td>EAST SIDE</td>\n        <td>5305</td>\n    </tr>\n    <tr>\n        <td>EDGEWATER</td>\n        <td>4600</td>\n    </tr>\n    <tr>\n        <td>EDISON PARK</td>\n        <td>910</td>\n    </tr>\n    <tr>\n        <td>ENGLEWOOD</td>\n        <td>6832</td>\n    </tr>\n    <tr>\n        <td>FOREST GLEN</td>\n        <td>1431</td>\n    </tr>\n    <tr>\n        <td>FULLER PARK</td>\n        <td>531</td>\n    </tr>\n    <tr>\n        <td>GAGE PARK</td>\n        <td>9915</td>\n    </tr>\n    <tr>\n        <td>GARFIELD RIDGE</td>\n        <td>4552</td>\n    </tr>\n    <tr>\n        <td>GRAND BOULEVARD</td>\n        <td>2809</td>\n    </tr>\n    <tr>\n        <td>GREATER GRAND CROSSING</td>\n        <td>4051</td>\n    </tr>\n    <tr>\n        <td>HEGEWISCH</td>\n        <td>963</td>\n    </tr>\n    <tr>\n        <td>HERMOSA</td>\n        <td>3975</td>\n    </tr>\n    <tr>\n        <td>HUMBOLDT PARK</td>\n        <td>8620</td>\n    </tr>\n    <tr>\n        <td>HYDE PARK</td>\n        <td>1930</td>\n    </tr>\n    <tr>\n        <td>IRVING PARK</td>\n        <td>7764</td>\n    </tr>\n    <tr>\n        <td>JEFFERSON PARK</td>\n        <td>1755</td>\n    </tr>\n    <tr>\n        <td>KENWOOD</td>\n        <td>4287</td>\n    </tr>\n    <tr>\n        <td>LAKE VIEW</td>\n        <td>7055</td>\n    </tr>\n    <tr>\n        <td>LINCOLN PARK</td>\n        <td>5615</td>\n    </tr>\n    <tr>\n        <td>LINCOLN SQUARE</td>\n        <td>4132</td>\n    </tr>\n    <tr>\n        <td>LOGAN SQUARE</td>\n        <td>7351</td>\n    </tr>\n    <tr>\n        <td>LOOP</td>\n        <td>871</td>\n    </tr>\n    <tr>\n        <td>LOWER WEST SIDE</td>\n        <td>7257</td>\n    </tr>\n    <tr>\n        <td>MCKINLEY PARK</td>\n        <td>1552</td>\n    </tr>\n    <tr>\n        <td>MONTCLARE</td>\n        <td>1317</td>\n    </tr>\n    <tr>\n        <td>MORGAN PARK</td>\n        <td>3271</td>\n    </tr>\n    <tr>\n        <td>MOUNT GREENWOOD</td>\n        <td>2091</td>\n    </tr>\n    <tr>\n        <td>NEAR NORTH SIDE</td>\n        <td>3362</td>\n    </tr>\n    <tr>\n        <td>NEAR SOUTH SIDE</td>\n        <td>1378</td>\n    </tr>\n    <tr>\n        <td>NEAR WEST SIDE</td>\n        <td>7975</td>\n    </tr>\n    <tr>\n        <td>NEW CITY</td>\n        <td>7922</td>\n    </tr>\n    <tr>\n        <td>NORTH CENTER</td>\n        <td>7541</td>\n    </tr>\n    <tr>\n        <td>NORTH LAWNDALE</td>\n        <td>5146</td>\n    </tr>\n    <tr>\n        <td>NORTH PARK</td>\n        <td>4210</td>\n    </tr>\n    <tr>\n        <td>NORWOOD PARK</td>\n        <td>6469</td>\n    </tr>\n    <tr>\n        <td>OAKLAND</td>\n        <td>140</td>\n    </tr>\n    <tr>\n        <td>OHARE</td>\n        <td>786</td>\n    </tr>\n    <tr>\n        <td>PORTAGE PARK</td>\n        <td>6954</td>\n    </tr>\n    <tr>\n        <td>PULLMAN</td>\n        <td>1620</td>\n    </tr>\n    <tr>\n        <td>RIVERDALE</td>\n        <td>1547</td>\n    </tr>\n    <tr>\n        <td>ROGERS PARK</td>\n        <td>4068</td>\n    </tr>\n    <tr>\n        <td>ROSELAND</td>\n        <td>7020</td>\n    </tr>\n    <tr>\n        <td>SOUTH CHICAGO</td>\n        <td>4043</td>\n    </tr>\n    <tr>\n        <td>SOUTH DEERING</td>\n        <td>1859</td>\n    </tr>\n    <tr>\n        <td>SOUTH LAWNDALE</td>\n        <td>14793</td>\n    </tr>\n    <tr>\n        <td>SOUTH SHORE</td>\n        <td>4543</td>\n    </tr>\n    <tr>\n        <td>UPTOWN</td>\n        <td>4388</td>\n    </tr>\n    <tr>\n        <td>WASHINGTON HEIGHTS</td>\n        <td>4006</td>\n    </tr>\n    <tr>\n        <td>WASHINGTON PARK</td>\n        <td>2648</td>\n    </tr>\n    <tr>\n        <td>WEST ELSDON</td>\n        <td>3700</td>\n    </tr>\n    <tr>\n        <td>WEST ENGLEWOOD</td>\n        <td>5946</td>\n    </tr>\n    <tr>\n        <td>WEST GARFIELD PARK</td>\n        <td>2622</td>\n    </tr>\n    <tr>\n        <td>WEST LAWN</td>\n        <td>4207</td>\n    </tr>\n    <tr>\n        <td>WEST PULLMAN</td>\n        <td>3240</td>\n    </tr>\n    <tr>\n        <td>WEST RIDGE</td>\n        <td>8197</td>\n    </tr>\n    <tr>\n        <td>WEST TOWN</td>\n        <td>9429</td>\n    </tr>\n    <tr>\n        <td>WOODLAWN</td>\n        <td>4206</td>\n    </tr>\n</table>", 
                        "text/plain": "[('ALBANY PARK', 6864),\n ('ARCHER HEIGHTS', 4823),\n ('ARMOUR SQUARE', 1458),\n ('ASHBURN', 6483),\n ('AUBURN GRESHAM', 4175),\n ('AUSTIN', 10933),\n ('AVALON PARK', 1522),\n ('AVONDALE', 3640),\n ('BELMONT CRAGIN', 14386),\n ('BEVERLY', 1636),\n ('BRIDGEPORT', 3167),\n ('BRIGHTON PARK', 9647),\n ('BURNSIDE', 549),\n ('CALUMET HEIGHTS', 1568),\n ('CHATHAM', 5042),\n ('CHICAGO LAWN', 7086),\n ('CLEARING', 2085),\n ('DOUGLAS', 4670),\n ('DUNNING', 4568),\n ('EAST GARFIELD PARK', 5337),\n ('EAST SIDE', 5305),\n ('EDGEWATER', 4600),\n ('EDISON PARK', 910),\n ('ENGLEWOOD', 6832),\n ('FOREST GLEN', 1431),\n ('FULLER PARK', 531),\n ('GAGE PARK', 9915),\n ('GARFIELD RIDGE', 4552),\n ('GRAND BOULEVARD', 2809),\n ('GREATER GRAND CROSSING', 4051),\n ('HEGEWISCH', 963),\n ('HERMOSA', 3975),\n ('HUMBOLDT PARK', 8620),\n ('HYDE PARK', 1930),\n ('IRVING PARK', 7764),\n ('JEFFERSON PARK', 1755),\n ('KENWOOD', 4287),\n ('LAKE VIEW', 7055),\n ('LINCOLN PARK', 5615),\n ('LINCOLN SQUARE', 4132),\n ('LOGAN SQUARE', 7351),\n ('LOOP', 871),\n ('LOWER WEST SIDE', 7257),\n ('MCKINLEY PARK', 1552),\n ('MONTCLARE', 1317),\n ('MORGAN PARK', 3271),\n ('MOUNT GREENWOOD', 2091),\n ('NEAR NORTH SIDE', 3362),\n ('NEAR SOUTH SIDE', 1378),\n ('NEAR WEST SIDE', 7975),\n ('NEW CITY', 7922),\n ('NORTH CENTER', 7541),\n ('NORTH LAWNDALE', 5146),\n ('NORTH PARK', 4210),\n ('NORWOOD PARK', 6469),\n ('OAKLAND', 140),\n ('OHARE', 786),\n ('PORTAGE PARK', 6954),\n ('PULLMAN', 1620),\n ('RIVERDALE', 1547),\n ('ROGERS PARK', 4068),\n ('ROSELAND', 7020),\n ('SOUTH CHICAGO', 4043),\n ('SOUTH DEERING', 1859),\n ('SOUTH LAWNDALE', 14793),\n ('SOUTH SHORE', 4543),\n ('UPTOWN', 4388),\n ('WASHINGTON HEIGHTS', 4006),\n ('WASHINGTON PARK', 2648),\n ('WEST ELSDON', 3700),\n ('WEST ENGLEWOOD', 5946),\n ('WEST GARFIELD PARK', 2622),\n ('WEST LAWN', 4207),\n ('WEST PULLMAN', 3240),\n ('WEST RIDGE', 8197),\n ('WEST TOWN', 9429),\n ('WOODLAWN', 4206)]"
                    }, 
                    "output_type": "execute_result"
                }
            ], 
            "source": "%sql select \"Community_Area_Name\", sum(\"College_Enrollment__number_of_students_\") AS TOTAL_ENROLLMENT from SCHOOLS group by \"Community_Area_Name\";"
        }, 
        {
            "source": "Let's get the 5 Community Areas with the least total College Enrollment (number of students) sorted in ascending order:", 
            "cell_type": "markdown", 
            "metadata": {}
        }, 
        {
            "execution_count": 28, 
            "cell_type": "code", 
            "metadata": {}, 
            "outputs": [
                {
                    "output_type": "stream", 
                    "name": "stdout", 
                    "text": " * ibm_db_sa://mnj99072:***@dashdb-txn-sbox-yp-lon02-01.services.eu-gb.bluemix.net:50000/BLUDB\nDone.\n"
                }, 
                {
                    "execution_count": 28, 
                    "metadata": {}, 
                    "data": {
                        "text/html": "<table>\n    <tr>\n        <th>Community_Area_Name</th>\n        <th>total_enrollment</th>\n    </tr>\n    <tr>\n        <td>OAKLAND</td>\n        <td>140</td>\n    </tr>\n    <tr>\n        <td>FULLER PARK</td>\n        <td>531</td>\n    </tr>\n    <tr>\n        <td>BURNSIDE</td>\n        <td>549</td>\n    </tr>\n    <tr>\n        <td>OHARE</td>\n        <td>786</td>\n    </tr>\n    <tr>\n        <td>LOOP</td>\n        <td>871</td>\n    </tr>\n</table>", 
                        "text/plain": "[('OAKLAND', 140),\n ('FULLER PARK', 531),\n ('BURNSIDE', 549),\n ('OHARE', 786),\n ('LOOP', 871)]"
                    }, 
                    "output_type": "execute_result"
                }
            ], 
            "source": "%sql select \"Community_Area_Name\", sum(\"College_Enrollment__number_of_students_\") AS TOTAL_ENROLLMENT from SCHOOLS group by \"Community_Area_Name\" order by TOTAL_ENROLLMENT limit 5;"
        }, 
        {
            "source": "## Chapter III: Working with all three datasets, including Chicago crime data\n### Downloading the Chicago crime datafile\nI downloaded the crime data file from the City of Chicago data storage.\nThe csv file can be accessed here: https://ibm.box.com/shared/static/svflyugsr9zbqy5bmowgswqemfpm1x7f.csv  \nAfter storing it in the IBM Db2 database warehouse, let's check if it is accessible by querying the database system catalog to retrieve table metadata:", 
            "cell_type": "markdown", 
            "metadata": {}
        }, 
        {
            "execution_count": 42, 
            "cell_type": "code", 
            "metadata": {}, 
            "outputs": [
                {
                    "output_type": "stream", 
                    "name": "stdout", 
                    "text": " * ibm_db_sa://mnj99072:***@dashdb-txn-sbox-yp-lon02-01.services.eu-gb.bluemix.net:50000/BLUDB\nDone.\n"
                }, 
                {
                    "execution_count": 42, 
                    "metadata": {}, 
                    "data": {
                        "text/html": "<table>\n    <tr>\n        <th>tabschema</th>\n        <th>tabname</th>\n        <th>create_time</th>\n    </tr>\n    <tr>\n        <td>MNJ99072</td>\n        <td>CHICAGO_CRIME_DATA</td>\n        <td>2018-10-30 11:15:21.038280</td>\n    </tr>\n    <tr>\n        <td>MNJ99072</td>\n        <td>EMPLOYEES</td>\n        <td>2018-10-29 14:35:28.814308</td>\n    </tr>\n    <tr>\n        <td>MNJ99072</td>\n        <td>JOB_HISTORY</td>\n        <td>2018-10-29 14:35:29.027256</td>\n    </tr>\n    <tr>\n        <td>MNJ99072</td>\n        <td>JOBS</td>\n        <td>2018-10-29 14:35:29.225604</td>\n    </tr>\n    <tr>\n        <td>MNJ99072</td>\n        <td>DEPARTMENTS</td>\n        <td>2018-10-29 14:35:29.421177</td>\n    </tr>\n    <tr>\n        <td>MNJ99072</td>\n        <td>LOCATIONS</td>\n        <td>2018-10-29 14:35:29.614347</td>\n    </tr>\n    <tr>\n        <td>MNJ99072</td>\n        <td>INSTRUCTOR</td>\n        <td>2018-11-24 16:22:26.267762</td>\n    </tr>\n    <tr>\n        <td>MNJ99072</td>\n        <td>INTERNATIONAL_STUDENT_TEST_SCORES</td>\n        <td>2018-11-24 16:34:41.326733</td>\n    </tr>\n    <tr>\n        <td>MNJ99072</td>\n        <td>CHICAGO_SOCIOECONOMIC_DATA</td>\n        <td>2018-11-24 17:56:23.373526</td>\n    </tr>\n    <tr>\n        <td>MNJ99072</td>\n        <td>SCHOOLS</td>\n        <td>2018-11-24 18:02:20.431628</td>\n    </tr>\n</table>", 
                        "text/plain": "[('MNJ99072', 'CHICAGO_CRIME_DATA', datetime.datetime(2018, 10, 30, 11, 15, 21, 38280)),\n ('MNJ99072', 'EMPLOYEES', datetime.datetime(2018, 10, 29, 14, 35, 28, 814308)),\n ('MNJ99072', 'JOB_HISTORY', datetime.datetime(2018, 10, 29, 14, 35, 29, 27256)),\n ('MNJ99072', 'JOBS', datetime.datetime(2018, 10, 29, 14, 35, 29, 225604)),\n ('MNJ99072', 'DEPARTMENTS', datetime.datetime(2018, 10, 29, 14, 35, 29, 421177)),\n ('MNJ99072', 'LOCATIONS', datetime.datetime(2018, 10, 29, 14, 35, 29, 614347)),\n ('MNJ99072', 'INSTRUCTOR', datetime.datetime(2018, 11, 24, 16, 22, 26, 267762)),\n ('MNJ99072', 'INTERNATIONAL_STUDENT_TEST_SCORES', datetime.datetime(2018, 11, 24, 16, 34, 41, 326733)),\n ('MNJ99072', 'CHICAGO_SOCIOECONOMIC_DATA', datetime.datetime(2018, 11, 24, 17, 56, 23, 373526)),\n ('MNJ99072', 'SCHOOLS', datetime.datetime(2018, 11, 24, 18, 2, 20, 431628))]"
                    }, 
                    "output_type": "execute_result"
                }
            ], 
            "source": "# query to retrieve list of all tables in the database\n%sql select TABSCHEMA, TABNAME, CREATE_TIME from syscat.tables where tabschema='MNJ99072';"
        }, 
        {
            "source": "### Exploratory data analysis\nLet's check the size of all three stored tables:", 
            "cell_type": "markdown", 
            "metadata": {}
        }, 
        {
            "execution_count": 45, 
            "cell_type": "code", 
            "metadata": {}, 
            "outputs": [
                {
                    "output_type": "stream", 
                    "name": "stdout", 
                    "text": " * ibm_db_sa://mnj99072:***@dashdb-txn-sbox-yp-lon02-01.services.eu-gb.bluemix.net:50000/BLUDB\nDone.\n"
                }, 
                {
                    "execution_count": 45, 
                    "metadata": {}, 
                    "data": {
                        "text/html": "<table>\n    <tr>\n        <th>1</th>\n    </tr>\n    <tr>\n        <td>78</td>\n    </tr>\n</table>", 
                        "text/plain": "[(Decimal('78'),)]"
                    }, 
                    "output_type": "execute_result"
                }
            ], 
            "source": "# Rows in Census Data (Socieconimic Indicators)\n%sql select count(*) from CHICAGO_SOCIOECONOMIC_DATA;"
        }, 
        {
            "execution_count": 46, 
            "cell_type": "code", 
            "metadata": {}, 
            "outputs": [
                {
                    "output_type": "stream", 
                    "name": "stdout", 
                    "text": " * ibm_db_sa://mnj99072:***@dashdb-txn-sbox-yp-lon02-01.services.eu-gb.bluemix.net:50000/BLUDB\nDone.\n"
                }, 
                {
                    "execution_count": 46, 
                    "metadata": {}, 
                    "data": {
                        "text/html": "<table>\n    <tr>\n        <th>1</th>\n    </tr>\n    <tr>\n        <td>566</td>\n    </tr>\n</table>", 
                        "text/plain": "[(Decimal('566'),)]"
                    }, 
                    "output_type": "execute_result"
                }
            ], 
            "source": "# Rows in Public Schools\n%sql select count(*) from SCHOOLS;"
        }, 
        {
            "execution_count": 47, 
            "cell_type": "code", 
            "metadata": {}, 
            "outputs": [
                {
                    "output_type": "stream", 
                    "name": "stdout", 
                    "text": " * ibm_db_sa://mnj99072:***@dashdb-txn-sbox-yp-lon02-01.services.eu-gb.bluemix.net:50000/BLUDB\nDone.\n"
                }, 
                {
                    "execution_count": 47, 
                    "metadata": {}, 
                    "data": {
                        "text/html": "<table>\n    <tr>\n        <th>1</th>\n    </tr>\n    <tr>\n        <td>533</td>\n    </tr>\n</table>", 
                        "text/plain": "[(Decimal('533'),)]"
                    }, 
                    "output_type": "execute_result"
                }
            ], 
            "source": "# Rows in Crime Data\n%sql select count(*) from CHICAGO_CRIME_DATA;"
        }, 
        {
            "source": "Let's find the average college enrollments by community area:", 
            "cell_type": "markdown", 
            "metadata": {}
        }, 
        {
            "execution_count": 48, 
            "cell_type": "code", 
            "metadata": {}, 
            "outputs": [
                {
                    "output_type": "stream", 
                    "name": "stdout", 
                    "text": " * ibm_db_sa://mnj99072:***@dashdb-txn-sbox-yp-lon02-01.services.eu-gb.bluemix.net:50000/BLUDB\nDone.\n"
                }, 
                {
                    "execution_count": 48, 
                    "metadata": {}, 
                    "data": {
                        "text/html": "<table>\n    <tr>\n        <th>Community_Area_Name</th>\n        <th>avg_enrollment</th>\n    </tr>\n    <tr>\n        <td>ALBANY PARK</td>\n        <td>858.000000</td>\n    </tr>\n    <tr>\n        <td>ARCHER HEIGHTS</td>\n        <td>2411.500000</td>\n    </tr>\n    <tr>\n        <td>ARMOUR SQUARE</td>\n        <td>486.000000</td>\n    </tr>\n    <tr>\n        <td>ASHBURN</td>\n        <td>810.375000</td>\n    </tr>\n    <tr>\n        <td>AUBURN GRESHAM</td>\n        <td>417.500000</td>\n    </tr>\n    <tr>\n        <td>AUSTIN</td>\n        <td>475.347826</td>\n    </tr>\n    <tr>\n        <td>AVALON PARK</td>\n        <td>507.333333</td>\n    </tr>\n    <tr>\n        <td>AVONDALE</td>\n        <td>910.000000</td>\n    </tr>\n    <tr>\n        <td>BELMONT CRAGIN</td>\n        <td>1198.833333</td>\n    </tr>\n    <tr>\n        <td>BEVERLY</td>\n        <td>409.000000</td>\n    </tr>\n    <tr>\n        <td>BRIDGEPORT</td>\n        <td>633.400000</td>\n    </tr>\n    <tr>\n        <td>BRIGHTON PARK</td>\n        <td>1205.875000</td>\n    </tr>\n    <tr>\n        <td>BURNSIDE</td>\n        <td>549.000000</td>\n    </tr>\n    <tr>\n        <td>CALUMET HEIGHTS</td>\n        <td>261.333333</td>\n    </tr>\n    <tr>\n        <td>CHATHAM</td>\n        <td>560.222222</td>\n    </tr>\n    <tr>\n        <td>CHICAGO LAWN</td>\n        <td>1012.285714</td>\n    </tr>\n    <tr>\n        <td>CLEARING</td>\n        <td>521.250000</td>\n    </tr>\n    <tr>\n        <td>DOUGLAS</td>\n        <td>424.545454</td>\n    </tr>\n    <tr>\n        <td>DUNNING</td>\n        <td>761.333333</td>\n    </tr>\n    <tr>\n        <td>EAST GARFIELD PARK</td>\n        <td>410.538461</td>\n    </tr>\n    <tr>\n        <td>EAST SIDE</td>\n        <td>1061.000000</td>\n    </tr>\n    <tr>\n        <td>EDGEWATER</td>\n        <td>766.666666</td>\n    </tr>\n    <tr>\n        <td>EDISON PARK</td>\n        <td>455.000000</td>\n    </tr>\n    <tr>\n        <td>ENGLEWOOD</td>\n        <td>401.882352</td>\n    </tr>\n    <tr>\n        <td>FOREST GLEN</td>\n        <td>477.000000</td>\n    </tr>\n    <tr>\n        <td>FULLER PARK</td>\n        <td>265.500000</td>\n    </tr>\n    <tr>\n        <td>GAGE PARK</td>\n        <td>991.500000</td>\n    </tr>\n    <tr>\n        <td>GARFIELD RIDGE</td>\n        <td>910.400000</td>\n    </tr>\n    <tr>\n        <td>GRAND BOULEVARD</td>\n        <td>351.125000</td>\n    </tr>\n    <tr>\n        <td>GREATER GRAND CROSSING</td>\n        <td>405.100000</td>\n    </tr>\n    <tr>\n        <td>HEGEWISCH</td>\n        <td>481.500000</td>\n    </tr>\n    <tr>\n        <td>HERMOSA</td>\n        <td>993.750000</td>\n    </tr>\n    <tr>\n        <td>HUMBOLDT PARK</td>\n        <td>663.076923</td>\n    </tr>\n    <tr>\n        <td>HYDE PARK</td>\n        <td>482.500000</td>\n    </tr>\n    <tr>\n        <td>IRVING PARK</td>\n        <td>862.666666</td>\n    </tr>\n    <tr>\n        <td>JEFFERSON PARK</td>\n        <td>877.500000</td>\n    </tr>\n    <tr>\n        <td>KENWOOD</td>\n        <td>612.428571</td>\n    </tr>\n    <tr>\n        <td>LAKE VIEW</td>\n        <td>641.363636</td>\n    </tr>\n    <tr>\n        <td>LINCOLN PARK</td>\n        <td>802.142857</td>\n    </tr>\n    <tr>\n        <td>LINCOLN SQUARE</td>\n        <td>826.400000</td>\n    </tr>\n    <tr>\n        <td>LOGAN SQUARE</td>\n        <td>668.272727</td>\n    </tr>\n    <tr>\n        <td>LOOP</td>\n        <td>871.000000</td>\n    </tr>\n    <tr>\n        <td>LOWER WEST SIDE</td>\n        <td>659.727272</td>\n    </tr>\n    <tr>\n        <td>MCKINLEY PARK</td>\n        <td>388.000000</td>\n    </tr>\n    <tr>\n        <td>MONTCLARE</td>\n        <td>1317.000000</td>\n    </tr>\n    <tr>\n        <td>MORGAN PARK</td>\n        <td>654.200000</td>\n    </tr>\n    <tr>\n        <td>MOUNT GREENWOOD</td>\n        <td>522.750000</td>\n    </tr>\n    <tr>\n        <td>NEAR NORTH SIDE</td>\n        <td>480.285714</td>\n    </tr>\n    <tr>\n        <td>NEAR SOUTH SIDE</td>\n        <td>459.333333</td>\n    </tr>\n    <tr>\n        <td>NEAR WEST SIDE</td>\n        <td>498.437500</td>\n    </tr>\n    <tr>\n        <td>NEW CITY</td>\n        <td>609.384615</td>\n    </tr>\n    <tr>\n        <td>NORTH CENTER</td>\n        <td>1077.285714</td>\n    </tr>\n    <tr>\n        <td>NORTH LAWNDALE</td>\n        <td>321.625000</td>\n    </tr>\n    <tr>\n        <td>NORTH PARK</td>\n        <td>842.000000</td>\n    </tr>\n    <tr>\n        <td>NORWOOD PARK</td>\n        <td>808.625000</td>\n    </tr>\n    <tr>\n        <td>OAKLAND</td>\n        <td>140.000000</td>\n    </tr>\n    <tr>\n        <td>OHARE</td>\n        <td>786.000000</td>\n    </tr>\n    <tr>\n        <td>PORTAGE PARK</td>\n        <td>993.428571</td>\n    </tr>\n    <tr>\n        <td>PULLMAN</td>\n        <td>324.000000</td>\n    </tr>\n    <tr>\n        <td>RIVERDALE</td>\n        <td>386.750000</td>\n    </tr>\n    <tr>\n        <td>ROGERS PARK</td>\n        <td>678.000000</td>\n    </tr>\n    <tr>\n        <td>ROSELAND</td>\n        <td>540.000000</td>\n    </tr>\n    <tr>\n        <td>SOUTH CHICAGO</td>\n        <td>577.571428</td>\n    </tr>\n    <tr>\n        <td>SOUTH DEERING</td>\n        <td>464.750000</td>\n    </tr>\n    <tr>\n        <td>SOUTH LAWNDALE</td>\n        <td>672.409090</td>\n    </tr>\n    <tr>\n        <td>SOUTH SHORE</td>\n        <td>504.777777</td>\n    </tr>\n    <tr>\n        <td>UPTOWN</td>\n        <td>626.857142</td>\n    </tr>\n    <tr>\n        <td>WASHINGTON HEIGHTS</td>\n        <td>445.111111</td>\n    </tr>\n    <tr>\n        <td>WASHINGTON PARK</td>\n        <td>529.600000</td>\n    </tr>\n    <tr>\n        <td>WEST ELSDON</td>\n        <td>1233.333333</td>\n    </tr>\n    <tr>\n        <td>WEST ENGLEWOOD</td>\n        <td>457.384615</td>\n    </tr>\n    <tr>\n        <td>WEST GARFIELD PARK</td>\n        <td>327.750000</td>\n    </tr>\n    <tr>\n        <td>WEST LAWN</td>\n        <td>1051.750000</td>\n    </tr>\n    <tr>\n        <td>WEST PULLMAN</td>\n        <td>324.000000</td>\n    </tr>\n    <tr>\n        <td>WEST RIDGE</td>\n        <td>910.777777</td>\n    </tr>\n    <tr>\n        <td>WEST TOWN</td>\n        <td>471.450000</td>\n    </tr>\n    <tr>\n        <td>WOODLAWN</td>\n        <td>525.750000</td>\n    </tr>\n</table>", 
                        "text/plain": "[('ALBANY PARK', Decimal('858.000000')),\n ('ARCHER HEIGHTS', Decimal('2411.500000')),\n ('ARMOUR SQUARE', Decimal('486.000000')),\n ('ASHBURN', Decimal('810.375000')),\n ('AUBURN GRESHAM', Decimal('417.500000')),\n ('AUSTIN', Decimal('475.347826')),\n ('AVALON PARK', Decimal('507.333333')),\n ('AVONDALE', Decimal('910.000000')),\n ('BELMONT CRAGIN', Decimal('1198.833333')),\n ('BEVERLY', Decimal('409.000000')),\n ('BRIDGEPORT', Decimal('633.400000')),\n ('BRIGHTON PARK', Decimal('1205.875000')),\n ('BURNSIDE', Decimal('549.000000')),\n ('CALUMET HEIGHTS', Decimal('261.333333')),\n ('CHATHAM', Decimal('560.222222')),\n ('CHICAGO LAWN', Decimal('1012.285714')),\n ('CLEARING', Decimal('521.250000')),\n ('DOUGLAS', Decimal('424.545454')),\n ('DUNNING', Decimal('761.333333')),\n ('EAST GARFIELD PARK', Decimal('410.538461')),\n ('EAST SIDE', Decimal('1061.000000')),\n ('EDGEWATER', Decimal('766.666666')),\n ('EDISON PARK', Decimal('455.000000')),\n ('ENGLEWOOD', Decimal('401.882352')),\n ('FOREST GLEN', Decimal('477.000000')),\n ('FULLER PARK', Decimal('265.500000')),\n ('GAGE PARK', Decimal('991.500000')),\n ('GARFIELD RIDGE', Decimal('910.400000')),\n ('GRAND BOULEVARD', Decimal('351.125000')),\n ('GREATER GRAND CROSSING', Decimal('405.100000')),\n ('HEGEWISCH', Decimal('481.500000')),\n ('HERMOSA', Decimal('993.750000')),\n ('HUMBOLDT PARK', Decimal('663.076923')),\n ('HYDE PARK', Decimal('482.500000')),\n ('IRVING PARK', Decimal('862.666666')),\n ('JEFFERSON PARK', Decimal('877.500000')),\n ('KENWOOD', Decimal('612.428571')),\n ('LAKE VIEW', Decimal('641.363636')),\n ('LINCOLN PARK', Decimal('802.142857')),\n ('LINCOLN SQUARE', Decimal('826.400000')),\n ('LOGAN SQUARE', Decimal('668.272727')),\n ('LOOP', Decimal('871.000000')),\n ('LOWER WEST SIDE', Decimal('659.727272')),\n ('MCKINLEY PARK', Decimal('388.000000')),\n ('MONTCLARE', Decimal('1317.000000')),\n ('MORGAN PARK', Decimal('654.200000')),\n ('MOUNT GREENWOOD', Decimal('522.750000')),\n ('NEAR NORTH SIDE', Decimal('480.285714')),\n ('NEAR SOUTH SIDE', Decimal('459.333333')),\n ('NEAR WEST SIDE', Decimal('498.437500')),\n ('NEW CITY', Decimal('609.384615')),\n ('NORTH CENTER', Decimal('1077.285714')),\n ('NORTH LAWNDALE', Decimal('321.625000')),\n ('NORTH PARK', Decimal('842.000000')),\n ('NORWOOD PARK', Decimal('808.625000')),\n ('OAKLAND', Decimal('140.000000')),\n ('OHARE', Decimal('786.000000')),\n ('PORTAGE PARK', Decimal('993.428571')),\n ('PULLMAN', Decimal('324.000000')),\n ('RIVERDALE', Decimal('386.750000')),\n ('ROGERS PARK', Decimal('678.000000')),\n ('ROSELAND', Decimal('540.000000')),\n ('SOUTH CHICAGO', Decimal('577.571428')),\n ('SOUTH DEERING', Decimal('464.750000')),\n ('SOUTH LAWNDALE', Decimal('672.409090')),\n ('SOUTH SHORE', Decimal('504.777777')),\n ('UPTOWN', Decimal('626.857142')),\n ('WASHINGTON HEIGHTS', Decimal('445.111111')),\n ('WASHINGTON PARK', Decimal('529.600000')),\n ('WEST ELSDON', Decimal('1233.333333')),\n ('WEST ENGLEWOOD', Decimal('457.384615')),\n ('WEST GARFIELD PARK', Decimal('327.750000')),\n ('WEST LAWN', Decimal('1051.750000')),\n ('WEST PULLMAN', Decimal('324.000000')),\n ('WEST RIDGE', Decimal('910.777777')),\n ('WEST TOWN', Decimal('471.450000')),\n ('WOODLAWN', Decimal('525.750000'))]"
                    }, 
                    "output_type": "execute_result"
                }
            ], 
            "source": "%sql select \"Community_Area_Name\", avg(\"College_Enrollment__number_of_students_\") AS AVG_ENROLLMENT from SCHOOLS group by \"Community_Area_Name\";"
        }, 
        {
            "source": "Let's find the number of schools that are healthy school certified:", 
            "cell_type": "markdown", 
            "metadata": {}
        }, 
        {
            "execution_count": 49, 
            "cell_type": "code", 
            "metadata": {}, 
            "outputs": [
                {
                    "output_type": "stream", 
                    "name": "stdout", 
                    "text": " * ibm_db_sa://mnj99072:***@dashdb-txn-sbox-yp-lon02-01.services.eu-gb.bluemix.net:50000/BLUDB\nDone.\n"
                }, 
                {
                    "execution_count": 49, 
                    "metadata": {}, 
                    "data": {
                        "text/html": "<table>\n    <tr>\n        <th>1</th>\n    </tr>\n    <tr>\n        <td>16</td>\n    </tr>\n</table>", 
                        "text/plain": "[(Decimal('16'),)]"
                    }, 
                    "output_type": "execute_result"
                }
            ], 
            "source": "%sql select count(*) from SCHOOLS where \"Healthy_Schools_Certified_\" = TRUE;"
        }, 
        {
            "source": "How many observations in the crime data have a Location Description value of GAS STATION?", 
            "cell_type": "markdown", 
            "metadata": {}
        }, 
        {
            "execution_count": 50, 
            "cell_type": "code", 
            "metadata": {}, 
            "outputs": [
                {
                    "output_type": "stream", 
                    "name": "stdout", 
                    "text": " * ibm_db_sa://mnj99072:***@dashdb-txn-sbox-yp-lon02-01.services.eu-gb.bluemix.net:50000/BLUDB\nDone.\n"
                }, 
                {
                    "execution_count": 50, 
                    "metadata": {}, 
                    "data": {
                        "text/html": "<table>\n    <tr>\n        <th>1</th>\n    </tr>\n    <tr>\n        <td>6</td>\n    </tr>\n</table>", 
                        "text/plain": "[(Decimal('6'),)]"
                    }, 
                    "output_type": "execute_result"
                }
            ], 
            "source": "%sql select count(*) from CHICAGO_CRIME_DATA where \"Location_Description\" = 'GAS STATION';"
        }, 
        {
            "source": "Let's retrieve a list of the top 10 community areas which have most number of schools and sorted in descending order:", 
            "cell_type": "markdown", 
            "metadata": {}
        }, 
        {
            "execution_count": 51, 
            "cell_type": "code", 
            "metadata": {}, 
            "outputs": [
                {
                    "output_type": "stream", 
                    "name": "stdout", 
                    "text": " * ibm_db_sa://mnj99072:***@dashdb-txn-sbox-yp-lon02-01.services.eu-gb.bluemix.net:50000/BLUDB\nDone.\n"
                }, 
                {
                    "execution_count": 51, 
                    "metadata": {}, 
                    "data": {
                        "text/html": "<table>\n    <tr>\n        <th>Community_Area_Name</th>\n        <th>number_of_schools</th>\n    </tr>\n    <tr>\n        <td>AUSTIN</td>\n        <td>23</td>\n    </tr>\n    <tr>\n        <td>SOUTH LAWNDALE</td>\n        <td>22</td>\n    </tr>\n    <tr>\n        <td>WEST TOWN</td>\n        <td>20</td>\n    </tr>\n    <tr>\n        <td>ENGLEWOOD</td>\n        <td>17</td>\n    </tr>\n    <tr>\n        <td>NEAR WEST SIDE</td>\n        <td>16</td>\n    </tr>\n    <tr>\n        <td>NORTH LAWNDALE</td>\n        <td>16</td>\n    </tr>\n    <tr>\n        <td>EAST GARFIELD PARK</td>\n        <td>13</td>\n    </tr>\n    <tr>\n        <td>ROSELAND</td>\n        <td>13</td>\n    </tr>\n    <tr>\n        <td>NEW CITY</td>\n        <td>13</td>\n    </tr>\n    <tr>\n        <td>HUMBOLDT PARK</td>\n        <td>13</td>\n    </tr>\n</table>", 
                        "text/plain": "[('AUSTIN', Decimal('23')),\n ('SOUTH LAWNDALE', Decimal('22')),\n ('WEST TOWN', Decimal('20')),\n ('ENGLEWOOD', Decimal('17')),\n ('NEAR WEST SIDE', Decimal('16')),\n ('NORTH LAWNDALE', Decimal('16')),\n ('EAST GARFIELD PARK', Decimal('13')),\n ('ROSELAND', Decimal('13')),\n ('NEW CITY', Decimal('13')),\n ('HUMBOLDT PARK', Decimal('13'))]"
                    }, 
                    "output_type": "execute_result"
                }
            ], 
            "source": "%sql select \"Community_Area_Name\", count(\"Community_Area_Name\") AS NUMBER_OF_SCHOOLS from SCHOOLS group by \"Community_Area_Name\" order by NUMBER_OF_SCHOOLS DESC limit 10;"
        }, 
        {
            "source": "How many observations have value MOTOR VEHICLE THEFT in the Primary Type variable (this is the number of crimes related to Motor vehicles)?", 
            "cell_type": "markdown", 
            "metadata": {}
        }, 
        {
            "execution_count": 52, 
            "cell_type": "code", 
            "metadata": {}, 
            "outputs": [
                {
                    "output_type": "stream", 
                    "name": "stdout", 
                    "text": " * ibm_db_sa://mnj99072:***@dashdb-txn-sbox-yp-lon02-01.services.eu-gb.bluemix.net:50000/BLUDB\nDone.\n"
                }, 
                {
                    "execution_count": 52, 
                    "metadata": {}, 
                    "data": {
                        "text/html": "<table>\n    <tr>\n        <th>1</th>\n    </tr>\n    <tr>\n        <td>24</td>\n    </tr>\n</table>", 
                        "text/plain": "[(Decimal('24'),)]"
                    }, 
                    "output_type": "execute_result"
                }
            ], 
            "source": "%sql select count(*) from CHICAGO_CRIME_DATA where \"Primary_Type\" = 'MOTOR VEHICLE THEFT';"
        }, 
        {
            "source": "Let's find the minimum \u201cAverage Student Attendance\u201d for community are where hardship is 96:", 
            "cell_type": "markdown", 
            "metadata": {}
        }, 
        {
            "execution_count": 53, 
            "cell_type": "code", 
            "metadata": {}, 
            "outputs": [
                {
                    "output_type": "stream", 
                    "name": "stdout", 
                    "text": " * ibm_db_sa://mnj99072:***@dashdb-txn-sbox-yp-lon02-01.services.eu-gb.bluemix.net:50000/BLUDB\nDone.\n"
                }, 
                {
                    "execution_count": 53, 
                    "metadata": {}, 
                    "data": {
                        "text/html": "<table>\n    <tr>\n        <th>Community_Area_Name</th>\n        <th>Average_Student_Attendance</th>\n        <th>hardship_index</th>\n    </tr>\n    <tr>\n        <td>SOUTH LAWNDALE</td>\n        <td>86.1%</td>\n        <td>96.0</td>\n    </tr>\n</table>", 
                        "text/plain": "[('SOUTH LAWNDALE', '86.1%', 96.0)]"
                    }, 
                    "output_type": "execute_result"
                }
            ], 
            "source": "%sql select S.\"Community_Area_Name\" ,S.\"Average_Student_Attendance\", CSD.hardship_index from SCHOOLS as S \\\nINNER JOIN CHICAGO_SOCIOECONOMIC_DATA as CSD on S.\"Community_Area_Name\" = UPPER(CSD.community_area_name) \\\nwhere CSD.hardship_index = 96 order by DECIMAL(REPLACE(S.\"Average_Student_Attendance\", '%', '')) limit 1;  "
        }, 
        {
            "execution_count": null, 
            "cell_type": "code", 
            "metadata": {}, 
            "outputs": [], 
            "source": ""
        }
    ], 
    "metadata": {
        "kernelspec": {
            "display_name": "Python 3.5", 
            "name": "python3", 
            "language": "python"
        }, 
        "language_info": {
            "mimetype": "text/x-python", 
            "nbconvert_exporter": "python", 
            "version": "3.5.5", 
            "name": "python", 
            "file_extension": ".py", 
            "pygments_lexer": "ipython3", 
            "codemirror_mode": {
                "version": 3, 
                "name": "ipython"
            }
        }
    }, 
    "nbformat": 4
}